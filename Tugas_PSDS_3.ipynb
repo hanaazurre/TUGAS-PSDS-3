{
  "nbformat": 4,
  "nbformat_minor": 0,
  "metadata": {
    "colab": {
      "provenance": []
    },
    "kernelspec": {
      "name": "python3",
      "display_name": "Python 3"
    },
    "language_info": {
      "name": "python"
    }
  },
  "cells": [
    {
      "cell_type": "code",
      "execution_count": 1,
      "metadata": {
        "colab": {
          "base_uri": "https://localhost:8080/"
        },
        "id": "5W4P-Pqb8EfB",
        "outputId": "c456b4e6-bc6a-4463-ee56-0d2c4803419f"
      },
      "outputs": [
        {
          "output_type": "stream",
          "name": "stdout",
          "text": [
            "<class 'list'>\n"
          ]
        }
      ],
      "source": [
        "#ContohList\n",
        "L1 = [3, 5, 2, 13]\n",
        "print(type(L1))"
      ]
    },
    {
      "cell_type": "code",
      "source": [
        "L2 = [\"a\", \"Python\", 3]\n",
        "print(type(L2))\n"
      ],
      "metadata": {
        "colab": {
          "base_uri": "https://localhost:8080/"
        },
        "id": "HEX6b8FI8Mbq",
        "outputId": "357b159a-8906-474d-c0cd-921b4a4baeba"
      },
      "execution_count": 2,
      "outputs": [
        {
          "output_type": "stream",
          "name": "stdout",
          "text": [
            "<class 'list'>\n"
          ]
        }
      ]
    },
    {
      "cell_type": "code",
      "source": [
        "print(L1)\n",
        "print(L2)"
      ],
      "metadata": {
        "colab": {
          "base_uri": "https://localhost:8080/"
        },
        "id": "DZIIbSNp8eO0",
        "outputId": "834d9c40-4938-4abe-8517-15e072a0b3ec"
      },
      "execution_count": 3,
      "outputs": [
        {
          "output_type": "stream",
          "name": "stdout",
          "text": [
            "[3, 5, 2, 13]\n",
            "['a', 'Python', 3]\n"
          ]
        }
      ]
    },
    {
      "cell_type": "code",
      "source": [
        "L1 = [1, \"empat\", True, 5+3j]\n",
        "L1.extend([\"Mark Lee\"])\n",
        "print(L1)"
      ],
      "metadata": {
        "colab": {
          "base_uri": "https://localhost:8080/"
        },
        "id": "rd6Fe_fU8mAG",
        "outputId": "faf9e09b-cf8f-4781-93c1-a3f2945e5d4c"
      },
      "execution_count": 4,
      "outputs": [
        {
          "output_type": "stream",
          "name": "stdout",
          "text": [
            "[1, 'empat', True, (5+3j), 'Mark Lee']\n"
          ]
        }
      ]
    },
    {
      "cell_type": "code",
      "source": [
        "#SifatSifatList\n",
        "#1.Terurut/Ordered\n",
        "print(\"Memanggil List L1 dengan indeks urutan:\", L1[0:3])\n",
        "\n",
        "#2.BisaDiganti/Mutable\n",
        "L1[1] = 2\n",
        "print(\"List L1 setelah diganti elemennya\", L1)\n",
        "\n",
        "L1 = [1, \"dua\", True, 2+3j]\n",
        "\n",
        "#3.DapatDiindeks/Slicing\n",
        "print(\"slicing list L1:\", L1[3])\n",
        "\n",
        "#4.Dapat Diijinkan Duplikasi\n",
        "L1 = [1, \"dua\", True, 2+3j, 2+3j]\n",
        "print(\"Duplikasi pada List L1:\", L1)\n",
        "\n",
        "#5.DapatMengubahDataDenganMenggantiElemenTertentu\n",
        "L1 = [1, \"dua\", True, 2+3j]\n",
        "L1[2] = 3\n",
        "print(\"Data Setelah Diubah:\", L1)\n",
        "\n",
        "#6.dapatMenambahkanElemenBaruPadaData\n",
        "L1 = [1, \"dua\", True, 2+3j]\n",
        "L1.remove(2+3j)\n",
        "print(\"Data setelah dihapus elemennya:\", L1)\n",
        "\n"
      ],
      "metadata": {
        "colab": {
          "base_uri": "https://localhost:8080/"
        },
        "id": "3l_zz0oW8s95",
        "outputId": "559571ee-45d3-4b09-dca4-c798a01802c0"
      },
      "execution_count": 5,
      "outputs": [
        {
          "output_type": "stream",
          "name": "stdout",
          "text": [
            "Memanggil List L1 dengan indeks urutan: [1, 'empat', True]\n",
            "List L1 setelah diganti elemennya [1, 2, True, (5+3j), 'Mark Lee']\n",
            "slicing list L1: (2+3j)\n",
            "Duplikasi pada List L1: [1, 'dua', True, (2+3j), (2+3j)]\n",
            "Data Setelah Diubah: [1, 'dua', 3, (2+3j)]\n",
            "Data setelah dihapus elemennya: [1, 'dua', True]\n"
          ]
        }
      ]
    },
    {
      "cell_type": "code",
      "source": [
        "#menambahkan data menggunakan fungsi extend (menambahkan elemen baru pada list namun elemen tersebut ditambahkan secara individual)\n",
        "\n",
        "L1 = [1, \"dua\", True, 6+3j]\n",
        "L1.extend(\"5 Seconds Of Summer\")\n",
        "print(L1)"
      ],
      "metadata": {
        "colab": {
          "base_uri": "https://localhost:8080/"
        },
        "id": "vvS6wZYt9Lf4",
        "outputId": "c7176d82-6427-4f6c-9c02-663a12fadcc6"
      },
      "execution_count": 6,
      "outputs": [
        {
          "output_type": "stream",
          "name": "stdout",
          "text": [
            "[1, 'dua', True, (6+3j), '5', ' ', 'S', 'e', 'c', 'o', 'n', 'd', 's', ' ', 'O', 'f', ' ', 'S', 'u', 'm', 'm', 'e', 'r']\n"
          ]
        }
      ]
    },
    {
      "cell_type": "code",
      "source": [
        "L1 = [1, \"dua\", True, 2+3j]\n",
        "L1.extend([\"Canada\"])\n",
        "print(L1)"
      ],
      "metadata": {
        "colab": {
          "base_uri": "https://localhost:8080/"
        },
        "id": "JUOmZoit9Wwg",
        "outputId": "dcf205f0-d5b4-4176-c491-00e8e87b8420"
      },
      "execution_count": 7,
      "outputs": [
        {
          "output_type": "stream",
          "name": "stdout",
          "text": [
            "[1, 'dua', True, (2+3j), 'Canada']\n"
          ]
        }
      ]
    },
    {
      "cell_type": "code",
      "source": [
        "#menambahkan data dengan fungsi insert (menambahkan elemen baru di List pada indeks tertentu)\n",
        "L1 = [1, \"dua\", True, 2+3j]\n",
        "L1.insert(4,9)\n",
        "print(L1)"
      ],
      "metadata": {
        "colab": {
          "base_uri": "https://localhost:8080/"
        },
        "id": "tExfQN7O9fue",
        "outputId": "df20ac12-44f4-4273-c7b6-e774b2a479cc"
      },
      "execution_count": 8,
      "outputs": [
        {
          "output_type": "stream",
          "name": "stdout",
          "text": [
            "[1, 'dua', True, (2+3j), 9]\n"
          ]
        }
      ]
    },
    {
      "cell_type": "code",
      "source": [
        "#menghapus elemen dari list menggunakan fungsi pop (menghapus berdasarkan indeks)\n",
        "L1 = [1, \"tiga\", True, 2+3j]\n",
        "L1.pop(0)\n",
        "print(L1)"
      ],
      "metadata": {
        "colab": {
          "base_uri": "https://localhost:8080/"
        },
        "id": "1JSabcld9ix9",
        "outputId": "7978e01e-87ce-41f7-ee36-4a18df15f625"
      },
      "execution_count": 9,
      "outputs": [
        {
          "output_type": "stream",
          "name": "stdout",
          "text": [
            "['tiga', True, (2+3j)]\n"
          ]
        }
      ]
    },
    {
      "cell_type": "code",
      "source": [
        "L1 = [1, \"dua\", True, 2+3j]\n",
        "L1.pop()\n",
        "print(L1)"
      ],
      "metadata": {
        "colab": {
          "base_uri": "https://localhost:8080/"
        },
        "id": "alHqSxuf92tx",
        "outputId": "592ed294-c7d0-4639-b711-94dfc966c532"
      },
      "execution_count": 10,
      "outputs": [
        {
          "output_type": "stream",
          "name": "stdout",
          "text": [
            "[1, 'dua', True]\n"
          ]
        }
      ]
    },
    {
      "cell_type": "markdown",
      "source": [
        "**Latihan**"
      ],
      "metadata": {
        "id": "EIawGdpG-MOV"
      }
    },
    {
      "cell_type": "markdown",
      "source": [
        "1. Buatlah List Kalian Sendiri!"
      ],
      "metadata": {
        "id": "6wr1z-IP-QbR"
      }
    },
    {
      "cell_type": "code",
      "source": [
        "#1. Buatlah list kalian sendiri\n",
        "\n",
        "L4 = [4, \"empat\", True, 2+4j]\n",
        "print(L4)"
      ],
      "metadata": {
        "colab": {
          "base_uri": "https://localhost:8080/"
        },
        "id": "zVatCWap976l",
        "outputId": "b6fade2b-fd30-4211-8cf3-e0f1c8c92f04"
      },
      "execution_count": 11,
      "outputs": [
        {
          "output_type": "stream",
          "name": "stdout",
          "text": [
            "[4, 'empat', True, (2+4j)]\n"
          ]
        }
      ]
    },
    {
      "cell_type": "markdown",
      "source": [
        "2. Ganti elemen yang ada pada list kalian!"
      ],
      "metadata": {
        "id": "9lWddOqi-r3K"
      }
    },
    {
      "cell_type": "code",
      "source": [
        "#sifat-sifat list\n",
        "print(\"Memanggil List L4 dengan indeks urutan:\", L4[0:3])\n",
        "\n",
        "L4[1] = 2\n",
        "print(\"List L3 setelah diganti elemennya:\", L4)\n",
        "\n",
        "L4 = [4, \"empat\", True, 2+4j]\n",
        "\n",
        "print(\"Slicing List L3:\", L4[3])\n",
        "\n",
        "L4 = [4, \"empat\", True, 2+4j]\n",
        "print(\"duplikasi pada list L3:\", L4)\n",
        "\n",
        "L4 = [4, \"empat\", True, 2+4j]\n",
        "L4[2] = 3\n",
        "print(\"Data setelah diubah:\", L4)\n",
        "\n",
        "L4 = [4, \"empat\", True, 2+4j]\n",
        "L4.append(10)\n",
        "print(\"data setelah ditambahkan elemennya:\", L4)\n",
        "\n",
        "L4 = [4, \"empat\", True, 2+4j]\n",
        "L4.remove(2+4j)\n",
        "print(\"Data setelah dihapus elemennya:\", L4)"
      ],
      "metadata": {
        "colab": {
          "base_uri": "https://localhost:8080/"
        },
        "id": "747ZsRl7-1tf",
        "outputId": "415c6852-677f-4317-9a26-08a22939a384"
      },
      "execution_count": 12,
      "outputs": [
        {
          "output_type": "stream",
          "name": "stdout",
          "text": [
            "Memanggil List L4 dengan indeks urutan: [4, 'empat', True]\n",
            "List L3 setelah diganti elemennya: [4, 2, True, (2+4j)]\n",
            "Slicing List L3: (2+4j)\n",
            "duplikasi pada list L3: [4, 'empat', True, (2+4j)]\n",
            "Data setelah diubah: [4, 'empat', 3, (2+4j)]\n",
            "data setelah ditambahkan elemennya: [4, 'empat', True, (2+4j), 10]\n",
            "Data setelah dihapus elemennya: [4, 'empat', True]\n"
          ]
        }
      ]
    },
    {
      "cell_type": "code",
      "source": [
        "L4 = [4, \"empat\", True, 2+4j]\n",
        "L4.extend(\"Mark\")\n",
        "print(L4)\n",
        "\n",
        "L4 = [4, \"empat\", True, 2+4j]\n",
        "L4.extend([\"Mark\"])\n",
        "print(L4)\n",
        "\n",
        "L4 = [4, \"empat\", True, 2+4j]\n",
        "L4.insert(1,6)\n",
        "print(L4)\n",
        "\n",
        "L4 = [4, \"empat\", True, 2+4j]\n",
        "L4.pop(2)\n",
        "print(L4)"
      ],
      "metadata": {
        "colab": {
          "base_uri": "https://localhost:8080/"
        },
        "id": "aD-_jOfx_sC2",
        "outputId": "def795d8-dcba-4872-886d-bd4c54c424e2"
      },
      "execution_count": 13,
      "outputs": [
        {
          "output_type": "stream",
          "name": "stdout",
          "text": [
            "[4, 'empat', True, (2+4j), 'M', 'a', 'r', 'k']\n",
            "[4, 'empat', True, (2+4j), 'Mark']\n",
            "[4, 6, 'empat', True, (2+4j)]\n",
            "[4, 'empat', (2+4j)]\n"
          ]
        }
      ]
    }
  ]
}